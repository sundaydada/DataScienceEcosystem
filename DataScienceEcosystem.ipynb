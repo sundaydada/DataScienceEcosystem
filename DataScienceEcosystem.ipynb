{
 "cells": [
  {
   "cell_type": "markdown",
   "id": "4d329e49-c700-4038-b17f-b909b275e2fc",
   "metadata": {},
   "source": [
    "# Data Science Tools and Ecosystem"
   ]
  },
  {
   "cell_type": "markdown",
   "id": "8dc307ac-dd31-4c0b-9b34-f83d90683bfc",
   "metadata": {},
   "source": [
    "## In this notebook, Data Science Tools and Ecosystem are summarized."
   ]
  },
  {
   "cell_type": "markdown",
   "id": "c72573da-b7ab-417e-9ef0-871c0ef65ba4",
   "metadata": {},
   "source": [
    "## OBJECTIVES\n",
    "* Lists of the  popular languages for Data Science are given\n",
    "* Commonly used libraries for data scientists are iterated\n",
    "* examples of arithmetric operations using Jupyter note are done"
   ]
  },
  {
   "cell_type": "markdown",
   "id": "743aa163-5d49-47bd-8bec-e67f24647ad9",
   "metadata": {},
   "source": [
    "### Some of the popular languages that Data Scientists use are:\n"
   ]
  },
  {
   "cell_type": "markdown",
   "id": "3ee2534d-7ada-48d2-8ea9-ea6cb25ca1c9",
   "metadata": {},
   "source": [
    "1. Python\n",
    "2. R\n",
    "3. SQL\n",
    "4. Java"
   ]
  },
  {
   "cell_type": "markdown",
   "id": "1d5d2084-989d-4e9d-bcf7-5dcbc895c5af",
   "metadata": {},
   "source": [
    "### Some of the commonly used libraries used by Data Scientists include \n",
    "1. Pandas\n",
    "2. Matplotlib\n",
    "3. Plotly\n",
    "4. Tensorflow\n",
    "5. Scipy\n",
    "etc"
   ]
  },
  {
   "cell_type": "markdown",
   "id": "4e5b29b7-c425-481d-8690-c94f53469196",
   "metadata": {},
   "source": [
    "|Data Science Tools|\n",
    "|-----------------|\n",
    "|Jupyter Notebook|\n",
    "|Rstudio|\n",
    "|Apache Zeppelin|"
   ]
  },
  {
   "cell_type": "markdown",
   "id": "1b9b4927-8d73-49a9-b81f-f4620967501c",
   "metadata": {},
   "source": [
    "### Below are a few examples of evaluating arithmetic expressions in Python"
   ]
  },
  {
   "cell_type": "code",
   "execution_count": 16,
   "id": "ccada8fe-409a-4af4-a6d8-db9390d7add6",
   "metadata": {},
   "outputs": [
    {
     "data": {
      "text/plain": [
       "17"
      ]
     },
     "execution_count": 16,
     "metadata": {},
     "output_type": "execute_result"
    }
   ],
   "source": [
    "# This a simple arithmetic expression to mutiply then add integers\n",
    "(3*4)+5"
   ]
  },
  {
   "cell_type": "code",
   "execution_count": 24,
   "id": "0d19e715-b662-4e73-814c-6e6309b67587",
   "metadata": {},
   "outputs": [
    {
     "data": {
      "text/plain": [
       "3.3333333333333335"
      ]
     },
     "execution_count": 24,
     "metadata": {},
     "output_type": "execute_result"
    }
   ],
   "source": [
    "# This will convert 200 minutes to hours by diving by 60\n",
    "200/60 "
   ]
  },
  {
   "cell_type": "markdown",
   "id": "13ffee7c-57d0-4e6e-b182-636ab12422e7",
   "metadata": {},
   "source": [
    "## Author\n",
    "SUNDAY TEMITOPE DADA"
   ]
  },
  {
   "cell_type": "code",
   "execution_count": null,
   "id": "bf7b8ed0-d78a-45dc-8195-0e4eea2063de",
   "metadata": {},
   "outputs": [],
   "source": []
  }
 ],
 "metadata": {
  "kernelspec": {
   "display_name": "Python 3 (ipykernel)",
   "language": "python",
   "name": "python3"
  },
  "language_info": {
   "codemirror_mode": {
    "name": "ipython",
    "version": 3
   },
   "file_extension": ".py",
   "mimetype": "text/x-python",
   "name": "python",
   "nbconvert_exporter": "python",
   "pygments_lexer": "ipython3",
   "version": "3.11.7"
  }
 },
 "nbformat": 4,
 "nbformat_minor": 5
}
